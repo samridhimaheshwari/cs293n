{
 "cells": [
  {
   "cell_type": "code",
   "execution_count": 21,
   "id": "d98ecedf",
   "metadata": {},
   "outputs": [],
   "source": [
    "import numpy as np\n",
    "import pandas as pd"
   ]
  },
  {
   "cell_type": "code",
   "execution_count": 22,
   "id": "b5c1679f",
   "metadata": {},
   "outputs": [],
   "source": [
    "metadata_csv= pd.read_csv('/home/rutwikk/NetworkML/sampled_labels_10k.csv')\n",
    "metadata_csv.head()\n",
    "num = 2000"
   ]
  },
  {
   "cell_type": "code",
   "execution_count": 23,
   "id": "2d6e3813",
   "metadata": {},
   "outputs": [
    {
     "data": {
      "text/plain": [
       "21"
      ]
     },
     "execution_count": 23,
     "metadata": {},
     "output_type": "execute_result"
    }
   ],
   "source": [
    "metadata_csv['Label'].value_counts()\n",
    "metadata_csv['Label'].nunique()"
   ]
  },
  {
   "cell_type": "code",
   "execution_count": 24,
   "id": "b9fe5b19",
   "metadata": {},
   "outputs": [
    {
     "name": "stdout",
     "output_type": "stream",
     "text": [
      "10000\n"
     ]
    }
   ],
   "source": [
    "print(len(metadata_csv))"
   ]
  },
  {
   "cell_type": "code",
   "execution_count": 25,
   "id": "11c5c91b",
   "metadata": {},
   "outputs": [
    {
     "data": {
      "text/plain": [
       "benign_benign               357\n",
       "malware_trickster           278\n",
       "malware_emotet              235\n",
       "malware_trickbot            185\n",
       "malware_magichound          164\n",
       "bengin_benign               156\n",
       "malware_htbot               153\n",
       "malware_tinba                97\n",
       "malware_adload               84\n",
       "malware_dridex               49\n",
       "malware_artemis              48\n",
       "malware_ursnif               47\n",
       "malware_ccleaner             40\n",
       "malware_pua                  30\n",
       "malware_trojandownloader     18\n",
       "malware_bitcoinminer         16\n",
       "malware_minertrojan          13\n",
       "malware_downware             10\n",
       "malware_cobalt               10\n",
       "benign_benign7                6\n",
       "malware_ramnit                4\n",
       "Name: Label, dtype: int64"
      ]
     },
     "execution_count": 25,
     "metadata": {},
     "output_type": "execute_result"
    }
   ],
   "source": [
    "df=metadata_csv\n",
    "sampledf = df.sample(n=num)#display(sampledf.head())\n",
    "sampledf['Label'].value_counts()\n"
   ]
  },
  {
   "cell_type": "code",
   "execution_count": 26,
   "id": "c793dd7c",
   "metadata": {},
   "outputs": [
    {
     "name": "stdout",
     "output_type": "stream",
     "text": [
      "8000\n"
     ]
    }
   ],
   "source": [
    "sampledf.head()\n",
    "cond = metadata_csv['File'].isin(sampledf['File'])\n",
    "training_csv = metadata_csv.drop(metadata_csv[cond].index)\n",
    "print(len(training_csv))"
   ]
  },
  {
   "cell_type": "code",
   "execution_count": 27,
   "id": "9b567f82",
   "metadata": {},
   "outputs": [
    {
     "data": {
      "text/html": [
       "<div>\n",
       "<style scoped>\n",
       "    .dataframe tbody tr th:only-of-type {\n",
       "        vertical-align: middle;\n",
       "    }\n",
       "\n",
       "    .dataframe tbody tr th {\n",
       "        vertical-align: top;\n",
       "    }\n",
       "\n",
       "    .dataframe thead th {\n",
       "        text-align: right;\n",
       "    }\n",
       "</style>\n",
       "<table border=\"1\" class=\"dataframe\">\n",
       "  <thead>\n",
       "    <tr style=\"text-align: right;\">\n",
       "      <th></th>\n",
       "      <th>File</th>\n",
       "      <th>Label</th>\n",
       "    </tr>\n",
       "  </thead>\n",
       "  <tbody>\n",
       "    <tr>\n",
       "      <th>0</th>\n",
       "      <td>834651885636613606_malware_bitcoinminer.pcap</td>\n",
       "      <td>malware_bitcoinminer</td>\n",
       "    </tr>\n",
       "    <tr>\n",
       "      <th>1</th>\n",
       "      <td>15580382646260918250_malware_trickbot.pcap</td>\n",
       "      <td>malware_trickbot</td>\n",
       "    </tr>\n",
       "    <tr>\n",
       "      <th>2</th>\n",
       "      <td>6714117115003085297_malware_ccleaner.pcap</td>\n",
       "      <td>malware_ccleaner</td>\n",
       "    </tr>\n",
       "    <tr>\n",
       "      <th>3</th>\n",
       "      <td>13816131453492651616_malware_adload.pcap</td>\n",
       "      <td>malware_adload</td>\n",
       "    </tr>\n",
       "    <tr>\n",
       "      <th>4</th>\n",
       "      <td>11220184179270305581_malware_trickbot.pcap</td>\n",
       "      <td>malware_trickbot</td>\n",
       "    </tr>\n",
       "  </tbody>\n",
       "</table>\n",
       "</div>"
      ],
      "text/plain": [
       "                                           File                 Label\n",
       "0  834651885636613606_malware_bitcoinminer.pcap  malware_bitcoinminer\n",
       "1    15580382646260918250_malware_trickbot.pcap      malware_trickbot\n",
       "2     6714117115003085297_malware_ccleaner.pcap      malware_ccleaner\n",
       "3      13816131453492651616_malware_adload.pcap        malware_adload\n",
       "4    11220184179270305581_malware_trickbot.pcap      malware_trickbot"
      ]
     },
     "execution_count": 27,
     "metadata": {},
     "output_type": "execute_result"
    }
   ],
   "source": [
    "training_csv.head()"
   ]
  },
  {
   "cell_type": "code",
   "execution_count": 28,
   "id": "1d2df7e7",
   "metadata": {},
   "outputs": [],
   "source": [
    "sampledf.to_csv('ids_sample_10k.csv', encoding='utf-8', index=False)"
   ]
  },
  {
   "cell_type": "code",
   "execution_count": null,
   "id": "1ea2e1fd",
   "metadata": {},
   "outputs": [],
   "source": [
    "import os\n",
    "import shutil\n",
    "for file in os.listdir(\"/home/rutwikk/NetworkML/data_pcap_ids/pcap_output\"):\n",
    "    if file.endswith(\".pcap\"):\n",
    "        if file in sampledf.values:\n",
    "            print(\"found file\")\n",
    "            shutil.copy(\"/home/rutwikk/NetworkML/data_pcap_ids/pcap_output\"+file, \"/home/rutwikk/NetworkML/data_pcap_ids/ids_sample_10k\"+file)\n",
    "            "
   ]
  },
  {
   "cell_type": "code",
   "execution_count": 13,
   "id": "ce93572f",
   "metadata": {},
   "outputs": [],
   "source": [
    "training_csv.to_csv('training_csv.csv', encoding='utf-8', index=False)"
   ]
  },
  {
   "cell_type": "code",
   "execution_count": null,
   "id": "27d27a1b",
   "metadata": {},
   "outputs": [],
   "source": []
  }
 ],
 "metadata": {
  "kernelspec": {
   "display_name": "Python 3 (ipykernel)",
   "language": "python",
   "name": "python3"
  },
  "language_info": {
   "codemirror_mode": {
    "name": "ipython",
    "version": 3
   },
   "file_extension": ".py",
   "mimetype": "text/x-python",
   "name": "python",
   "nbconvert_exporter": "python",
   "pygments_lexer": "ipython3",
   "version": "3.7.13"
  }
 },
 "nbformat": 4,
 "nbformat_minor": 5
}
